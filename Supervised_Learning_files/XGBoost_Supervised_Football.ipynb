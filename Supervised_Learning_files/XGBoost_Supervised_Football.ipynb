{
 "cells": [
  {
   "cell_type": "code",
   "execution_count": 59,
   "metadata": {},
   "outputs": [],
   "source": [
    "# pip install xgboost\n",
    "# pip install hyperopt\n",
    "#https://hyperopt.github.io/hyperopt/?source=post_page\n",
    "# pip install category_encoders\n",
    "# pip install scikit-optimize\n",
    "# pip install dtreeviz\n"
   ]
  },
  {
   "cell_type": "markdown",
   "metadata": {},
   "source": [
    "**Install Libraries**"
   ]
  },
  {
   "cell_type": "code",
   "execution_count": 60,
   "metadata": {},
   "outputs": [],
   "source": [
    "import sys\n",
    "\n",
    "import numpy as np\n",
    "import pandas as pd\n",
    "import matplotlib.pyplot as plt\n",
    "import xgboost as xgb\n",
    "\n",
    "\n",
    "import shap\n",
    "\n",
    "from xgboost import plot_importance\n",
    "from xgboost import XGBRegressor, plot_importance, plot_tree, plotting\n",
    "\n",
    "\n",
    "import dtreeviz\n",
    "import graphviz\n",
    "\n",
    "\n",
    "\n",
    "from sklearn.model_selection import train_test_split\n",
    "from sklearn.metrics import mean_squared_error, mean_absolute_error, r2_score, accuracy_score, classification_report\n",
    "from sklearn.model_selection import GridSearchCV\n",
    "import scipy.stats as stats\n",
    "from sklearn.pipeline import Pipeline\n",
    "from category_encoders.target_encoder import TargetEncoder\n",
    "\n",
    "\n",
    "\n",
    "# #for hyperparameter tuning\n",
    "# import hyperopt\n",
    "# from hyperopt import fmin, tpe, hp, STATUS_OK, Trials\n",
    "\n",
    "from sklearn.preprocessing import StandardScaler\n",
    "\n",
    "\n"
   ]
  },
  {
   "cell_type": "markdown",
   "metadata": {},
   "source": [
    "**Load datasets**"
   ]
  },
  {
   "cell_type": "code",
   "execution_count": 61,
   "metadata": {},
   "outputs": [],
   "source": [
    "def load_dataset(data):\n",
    "    df = pd.read_csv(data)\n",
    "   \n",
    "    return df\n"
   ]
  },
  {
   "cell_type": "code",
   "execution_count": 62,
   "metadata": {},
   "outputs": [],
   "source": [
    "df_bb= load_dataset('cleaned_files/basketball_clean_supervised.csv')\n",
    "df_fb= load_dataset('cleaned_files/football_clean_supervised.csv')"
   ]
  },
  {
   "cell_type": "code",
   "execution_count": 63,
   "metadata": {},
   "outputs": [
    {
     "data": {
      "text/html": [
       "<div>\n",
       "<style scoped>\n",
       "    .dataframe tbody tr th:only-of-type {\n",
       "        vertical-align: middle;\n",
       "    }\n",
       "\n",
       "    .dataframe tbody tr th {\n",
       "        vertical-align: top;\n",
       "    }\n",
       "\n",
       "    .dataframe thead th {\n",
       "        text-align: right;\n",
       "    }\n",
       "</style>\n",
       "<table border=\"1\" class=\"dataframe\">\n",
       "  <thead>\n",
       "    <tr style=\"text-align: right;\">\n",
       "      <th></th>\n",
       "      <th>Unnamed: 0</th>\n",
       "      <th>NAME</th>\n",
       "      <th>GRADE</th>\n",
       "      <th>AGE</th>\n",
       "      <th>SKILL</th>\n",
       "      <th>STARCOLL</th>\n",
       "      <th>NUMOFF</th>\n",
       "      <th>POS</th>\n",
       "      <th>HEIGHT_IN</th>\n",
       "      <th>WEIGHT_LBS</th>\n",
       "      <th>...</th>\n",
       "      <th>TIK_LONG</th>\n",
       "      <th>TOT_FOL</th>\n",
       "      <th>SPORT</th>\n",
       "      <th>RECRUIT_YEAR</th>\n",
       "      <th>EXP_MONTHS</th>\n",
       "      <th>EXP_YEARS</th>\n",
       "      <th>institution_name_short</th>\n",
       "      <th>ClassificationCode</th>\n",
       "      <th>REV_MEN</th>\n",
       "      <th>EXP_MEN</th>\n",
       "    </tr>\n",
       "  </thead>\n",
       "  <tbody>\n",
       "    <tr>\n",
       "      <th>0</th>\n",
       "      <td>0</td>\n",
       "      <td>Arch Manning</td>\n",
       "      <td>2.0</td>\n",
       "      <td>18.28281</td>\n",
       "      <td>99.53</td>\n",
       "      <td>Texas</td>\n",
       "      <td>18.0</td>\n",
       "      <td>1.0</td>\n",
       "      <td>75.5</td>\n",
       "      <td>220.0</td>\n",
       "      <td>...</td>\n",
       "      <td>8900.0</td>\n",
       "      <td>73900.0</td>\n",
       "      <td>football</td>\n",
       "      <td>2023.0</td>\n",
       "      <td>2.0</td>\n",
       "      <td>0.189041</td>\n",
       "      <td>Texas</td>\n",
       "      <td>1.0</td>\n",
       "      <td>161532860.0</td>\n",
       "      <td>50633156.0</td>\n",
       "    </tr>\n",
       "    <tr>\n",
       "      <th>1</th>\n",
       "      <td>1</td>\n",
       "      <td>Anthony Hill</td>\n",
       "      <td>2.0</td>\n",
       "      <td>18.00000</td>\n",
       "      <td>97.87</td>\n",
       "      <td>Texas</td>\n",
       "      <td>25.0</td>\n",
       "      <td>8.0</td>\n",
       "      <td>73.5</td>\n",
       "      <td>225.0</td>\n",
       "      <td>...</td>\n",
       "      <td>0.0</td>\n",
       "      <td>13100.0</td>\n",
       "      <td>football</td>\n",
       "      <td>2023.0</td>\n",
       "      <td>2.0</td>\n",
       "      <td>0.189041</td>\n",
       "      <td>Texas</td>\n",
       "      <td>1.0</td>\n",
       "      <td>161532860.0</td>\n",
       "      <td>50633156.0</td>\n",
       "    </tr>\n",
       "    <tr>\n",
       "      <th>2</th>\n",
       "      <td>2</td>\n",
       "      <td>CJ Baxter Jr.</td>\n",
       "      <td>2.0</td>\n",
       "      <td>18.00000</td>\n",
       "      <td>97.26</td>\n",
       "      <td>Texas</td>\n",
       "      <td>25.0</td>\n",
       "      <td>9.0</td>\n",
       "      <td>73.0</td>\n",
       "      <td>216.0</td>\n",
       "      <td>...</td>\n",
       "      <td>1700.0</td>\n",
       "      <td>10900.0</td>\n",
       "      <td>football</td>\n",
       "      <td>2023.0</td>\n",
       "      <td>2.0</td>\n",
       "      <td>0.189041</td>\n",
       "      <td>Texas</td>\n",
       "      <td>1.0</td>\n",
       "      <td>161532860.0</td>\n",
       "      <td>50633156.0</td>\n",
       "    </tr>\n",
       "  </tbody>\n",
       "</table>\n",
       "<p>3 rows × 24 columns</p>\n",
       "</div>"
      ],
      "text/plain": [
       "   Unnamed: 0           NAME  GRADE       AGE  SKILL STARCOLL  NUMOFF  POS  \\\n",
       "0           0   Arch Manning    2.0  18.28281  99.53    Texas    18.0  1.0   \n",
       "1           1   Anthony Hill    2.0  18.00000  97.87    Texas    25.0  8.0   \n",
       "2           2  CJ Baxter Jr.    2.0  18.00000  97.26    Texas    25.0  9.0   \n",
       "\n",
       "   HEIGHT_IN  WEIGHT_LBS  ...  TIK_LONG  TOT_FOL     SPORT  RECRUIT_YEAR  \\\n",
       "0       75.5       220.0  ...    8900.0  73900.0  football        2023.0   \n",
       "1       73.5       225.0  ...       0.0  13100.0  football        2023.0   \n",
       "2       73.0       216.0  ...    1700.0  10900.0  football        2023.0   \n",
       "\n",
       "   EXP_MONTHS  EXP_YEARS institution_name_short  ClassificationCode  \\\n",
       "0         2.0   0.189041                  Texas                 1.0   \n",
       "1         2.0   0.189041                  Texas                 1.0   \n",
       "2         2.0   0.189041                  Texas                 1.0   \n",
       "\n",
       "       REV_MEN     EXP_MEN  \n",
       "0  161532860.0  50633156.0  \n",
       "1  161532860.0  50633156.0  \n",
       "2  161532860.0  50633156.0  \n",
       "\n",
       "[3 rows x 24 columns]"
      ]
     },
     "execution_count": 63,
     "metadata": {},
     "output_type": "execute_result"
    }
   ],
   "source": [
    "df_fb.head(3)"
   ]
  },
  {
   "cell_type": "code",
   "execution_count": 64,
   "metadata": {},
   "outputs": [],
   "source": [
    "#save athlete names for later indexing\n",
    "athletes_fb = df_fb['NAME']\n",
    "athletes_bb = df_bb['NAME']\n",
    "# athlete_names\n",
    "\n",
    "df_bb = df_bb.drop(columns=['Unnamed: 0', 'NAME','SPORT','STARCOLL','EXP_YEARS','institution_name_short'])\n",
    "df_fb= df_fb.drop(columns=['Unnamed: 0', 'NAME','SPORT', 'STARCOLL','EXP_YEARS','institution_name_short'])\n"
   ]
  },
  {
   "cell_type": "code",
   "execution_count": 65,
   "metadata": {},
   "outputs": [
    {
     "data": {
      "text/plain": [
       "Index(['GRADE', 'AGE', 'SKILL', 'NUMOFF', 'POS', 'HEIGHT_IN', 'WEIGHT_LBS',\n",
       "       'COLLDIST_MI', 'NILVAL_LONG_USD', 'INSTA_LONG', 'TWIT_LONG', 'TIK_LONG',\n",
       "       'TOT_FOL', 'RECRUIT_YEAR', 'EXP_MONTHS', 'ClassificationCode',\n",
       "       'REV_MEN', 'EXP_MEN'],\n",
       "      dtype='object')"
      ]
     },
     "execution_count": 65,
     "metadata": {},
     "output_type": "execute_result"
    }
   ],
   "source": [
    "\n",
    "df_fb.columns\n",
    "# df_fb.info()"
   ]
  },
  {
   "cell_type": "code",
   "execution_count": 66,
   "metadata": {},
   "outputs": [],
   "source": [
    "# Extract target and features\n",
    "Target = 'NILVAL_LONG_USD'\n",
    "Predictors = ['GRADE', 'AGE', 'SKILL', 'NUMOFF', 'POS', 'HEIGHT_IN', 'WEIGHT_LBS',\n",
    "       'COLLDIST_MI', 'INSTA_LONG', 'TWIT_LONG', 'TIK_LONG',\n",
    "       'TOT_FOL', 'RECRUIT_YEAR', 'EXP_MONTHS', 'EXP_YEARS',\n",
    "       'ClassificationCode', 'REV_MEN', 'EXP_MEN']\n",
    "\n",
    "X = df_fb.drop('NILVAL_LONG_USD', axis=1).values\n",
    "y =  df_fb[['NILVAL_LONG_USD']].values\n",
    "# X.head(3)"
   ]
  },
  {
   "cell_type": "code",
   "execution_count": 67,
   "metadata": {},
   "outputs": [
    {
     "name": "stdout",
     "output_type": "stream",
     "text": [
      "(1010, 17) (1010, 1)\n",
      "(253, 17) (253, 1)\n"
     ]
    }
   ],
   "source": [
    "#split the data\n",
    "#Shuffle data given concern that dataset has athletes ordered by SKILL (but also look at skew later based on model performance)\n",
    "\n",
    "X_train, X_test, y_train, y_test = train_test_split(X, y, test_size=0.2, shuffle = True)\n",
    "print(X_train.shape, y_train.shape)\n",
    "print (X_test.shape, y_test.shape)"
   ]
  },
  {
   "cell_type": "code",
   "execution_count": 68,
   "metadata": {},
   "outputs": [
    {
     "name": "stdout",
     "output_type": "stream",
     "text": [
      "(1010, 17) (1010, 1)\n",
      "(253, 17) (253, 1)\n"
     ]
    }
   ],
   "source": [
    "# Extract target and features\n",
    "Target = 'NILVAL_LONG_USD'\n",
    "Predictors = ['GRADE', 'AGE', 'SKILL', 'NUMOFF', 'POS', 'HEIGHT_IN', 'WEIGHT_LBS',\n",
    "       'COLLDIST_MI', 'INSTA_LONG', 'TWIT_LONG', 'TIK_LONG',\n",
    "       'TOT_FOL', 'RECRUIT_YEAR', 'EXP_MONTHS', 'EXP_YEARS',\n",
    "       'ClassificationCode', 'REV_MEN', 'EXP_MEN']\n",
    "\n",
    "X = df_fb.drop('NILVAL_LONG_USD', axis=1).values\n",
    "y =  df_fb[['NILVAL_LONG_USD']].values\n",
    "X_train, X_test, y_train, y_test = train_test_split(X, y, test_size=0.2, shuffle = True)\n",
    "print(X_train.shape, y_train.shape)\n",
    "print (X_test.shape, y_test.shape)"
   ]
  },
  {
   "cell_type": "markdown",
   "metadata": {},
   "source": [
    "**Standard Train Test Split**"
   ]
  },
  {
   "cell_type": "code",
   "execution_count": 69,
   "metadata": {},
   "outputs": [],
   "source": [
    "\n",
    "# def split_data(df, train_size_=0.70, valid_size_=0.15, test_size_=0.15, random_state=42):\n",
    "#     # Log-transform y\n",
    "#     df=df.copy()\n",
    "#     y = df.pop(\"NILVAL_LONG_USD\")\n",
    "#     y = np.log1p(y)\n",
    "#     X = df\n",
    "#     # scaler = StandardScaler()\n",
    "#     # X_scaled = scaler.fit_transform(X) \n",
    "\n",
    "#     # Split the data\n",
    "#     X_train, X_temp, y_train, y_temp = train_test_split(X, y, test_size=valid_size_ + test_size_, \n",
    "#     shuffle = True, random_state=random_state)\n",
    "#     X_valid, X_test, y_valid, y_test = train_test_split(X_temp, y_temp, test_size=test_size_ / (valid_size_ + test_size_), shuffle = True, random_state=random_state)\n",
    "\n",
    "#     # X_train = pd.DataFrame(X_train, columns=X.columns)\n",
    "#     # X_valid = pd.DataFrame(X_valid, columns=X.columns)\n",
    "#     # X_test = pd.DataFrame(X_test, columns=X.columns)\n",
    "\n",
    "#     return X_train, y_train, X_valid, y_valid, X_test, y_test"
   ]
  },
  {
   "cell_type": "code",
   "execution_count": 70,
   "metadata": {},
   "outputs": [],
   "source": [
    "# X_train_bb, y_train_bb, X_valid_bb, y_valid_bb, X_test_bb, y_test_bb = split_data(df_bb)\n",
    "# X_train_fb, y_train_fb, X_valid_fb, y_valid_fb, X_test_fb, y_test_fb = split_data(df_fb)\n",
    "\n",
    "# print((X_train_bb.shape,y_train_bb.shape ),(X_valid_bb.shape, y_valid_bb.shape),(X_test_bb.shape, y_test_bb.shape))\n",
    "# print((X_train_fb.shape,y_train_fb.shape ),(X_valid_fb.shape, y_valid_fb.shape),(X_test_fb.shape, y_test_fb.shape))"
   ]
  },
  {
   "cell_type": "code",
   "execution_count": 71,
   "metadata": {},
   "outputs": [],
   "source": [
    "\n",
    "# # Extract target and features\n",
    "# Target = 'NILVAL_LONG_USD'\n",
    "# Predictors = ['GRADE', 'AGE', 'SKILL', 'NUMOFF', 'POS', 'HEIGHT_IN', 'WEIGHT_LBS',\n",
    "#        'COLLDIST_MI', 'INSTA_LONG', 'TWIT_LONG', 'TIK_LONG',\n",
    "#        'TOT_FOL', 'RECRUIT_YEAR', 'EXP_MONTHS', 'EXP_YEARS',\n",
    "#        'ClassificationCode', 'REV_MEN', 'EXP_MEN']\n",
    "\n"
   ]
  },
  {
   "cell_type": "markdown",
   "metadata": {},
   "source": [
    "**XGBoostRegressor Base Model Decision Trees as Base Learners- using all features- using scikit learn**"
   ]
  },
  {
   "cell_type": "code",
   "execution_count": 72,
   "metadata": {},
   "outputs": [
    {
     "data": {
      "text/plain": [
       "XGBRegressor(base_score=0.5, booster='gbtree', callbacks=None,\n",
       "             colsample_bylevel=1, colsample_bynode=1, colsample_bytree=1,\n",
       "             early_stopping_rounds=None, enable_categorical=False,\n",
       "             eval_metric=None, gamma=0, gpu_id=-1, grow_policy='depthwise',\n",
       "             importance_type=None, interaction_constraints='',\n",
       "             learning_rate=0.300000012, max_bin=256, max_cat_to_onehot=4,\n",
       "             max_delta_step=0, max_depth=6, max_leaves=0, min_child_weight=1,\n",
       "             missing=nan, monotone_constraints='()', n_estimators=5, n_jobs=0,\n",
       "             num_parallel_tree=1, objective='reg:squarederror',\n",
       "             predictor='auto', random_state=42, reg_alpha=0, ...)"
      ]
     },
     "execution_count": 72,
     "metadata": {},
     "output_type": "execute_result"
    }
   ],
   "source": [
    "#using default parameters, boosting rounds = 5  objective =reg:squarederror  XGBoost default is gbtree\n",
    "xg_reg2 = XGBRegressor(n_estimators=5, random_state= 42)\n",
    "xg_reg2.fit(X_train, y_train)"
   ]
  },
  {
   "cell_type": "code",
   "execution_count": 73,
   "metadata": {},
   "outputs": [
    {
     "name": "stdout",
     "output_type": "stream",
     "text": [
      "RMSE: 232261.869339\n",
      "Train R2 Value: 0.7381574457827316\n",
      "Accuracy Test 22.42118239814566\n"
     ]
    },
    {
     "ename": "ValueError",
     "evalue": "Length of values (17) does not match length of index (18)",
     "output_type": "error",
     "traceback": [
      "\u001b[1;31m---------------------------------------------------------------------------\u001b[0m",
      "\u001b[1;31mValueError\u001b[0m                                Traceback (most recent call last)",
      "\u001b[1;32m<ipython-input-73-df69647d4a96>\u001b[0m in \u001b[0;36m<module>\u001b[1;34m\u001b[0m\n\u001b[0;32m     18\u001b[0m \u001b[1;31m#Plotting the feature importance for Top 10 most important columns\u001b[0m\u001b[1;33m\u001b[0m\u001b[1;33m\u001b[0m\u001b[1;33m\u001b[0m\u001b[0m\n\u001b[0;32m     19\u001b[0m \u001b[0mget_ipython\u001b[0m\u001b[1;33m(\u001b[0m\u001b[1;33m)\u001b[0m\u001b[1;33m.\u001b[0m\u001b[0mrun_line_magic\u001b[0m\u001b[1;33m(\u001b[0m\u001b[1;34m'matplotlib'\u001b[0m\u001b[1;33m,\u001b[0m \u001b[1;34m'inline'\u001b[0m\u001b[1;33m)\u001b[0m\u001b[1;33m\u001b[0m\u001b[1;33m\u001b[0m\u001b[0m\n\u001b[1;32m---> 20\u001b[1;33m \u001b[0mfeature_importances\u001b[0m \u001b[1;33m=\u001b[0m \u001b[0mpd\u001b[0m\u001b[1;33m.\u001b[0m\u001b[0mSeries\u001b[0m\u001b[1;33m(\u001b[0m\u001b[0mxg_reg2\u001b[0m\u001b[1;33m.\u001b[0m\u001b[0mfeature_importances_\u001b[0m\u001b[1;33m,\u001b[0m \u001b[0mindex\u001b[0m\u001b[1;33m=\u001b[0m\u001b[0mPredictors\u001b[0m\u001b[1;33m)\u001b[0m\u001b[1;33m\u001b[0m\u001b[1;33m\u001b[0m\u001b[0m\n\u001b[0m\u001b[0;32m     21\u001b[0m \u001b[0mfeature_importances\u001b[0m\u001b[1;33m.\u001b[0m\u001b[0mnlargest\u001b[0m\u001b[1;33m(\u001b[0m\u001b[1;36m10\u001b[0m\u001b[1;33m)\u001b[0m\u001b[1;33m.\u001b[0m\u001b[0mplot\u001b[0m\u001b[1;33m(\u001b[0m\u001b[0mkind\u001b[0m\u001b[1;33m=\u001b[0m\u001b[1;34m'barh'\u001b[0m\u001b[1;33m)\u001b[0m\u001b[1;33m\u001b[0m\u001b[1;33m\u001b[0m\u001b[0m\n\u001b[0;32m     22\u001b[0m \u001b[0mplt\u001b[0m\u001b[1;33m.\u001b[0m\u001b[0mxlabel\u001b[0m \u001b[1;33m(\u001b[0m\u001b[1;34m\"Feature Importance\"\u001b[0m\u001b[1;33m)\u001b[0m\u001b[1;33m\u001b[0m\u001b[1;33m\u001b[0m\u001b[0m\n",
      "\u001b[1;32mc:\\Users\\kakib\\anaconda3\\lib\\site-packages\\pandas\\core\\series.py\u001b[0m in \u001b[0;36m__init__\u001b[1;34m(self, data, index, dtype, name, copy, fastpath)\u001b[0m\n\u001b[0;32m    428\u001b[0m                 \u001b[0mindex\u001b[0m \u001b[1;33m=\u001b[0m \u001b[0mibase\u001b[0m\u001b[1;33m.\u001b[0m\u001b[0mdefault_index\u001b[0m\u001b[1;33m(\u001b[0m\u001b[0mlen\u001b[0m\u001b[1;33m(\u001b[0m\u001b[0mdata\u001b[0m\u001b[1;33m)\u001b[0m\u001b[1;33m)\u001b[0m\u001b[1;33m\u001b[0m\u001b[1;33m\u001b[0m\u001b[0m\n\u001b[0;32m    429\u001b[0m             \u001b[1;32melif\u001b[0m \u001b[0mis_list_like\u001b[0m\u001b[1;33m(\u001b[0m\u001b[0mdata\u001b[0m\u001b[1;33m)\u001b[0m\u001b[1;33m:\u001b[0m\u001b[1;33m\u001b[0m\u001b[1;33m\u001b[0m\u001b[0m\n\u001b[1;32m--> 430\u001b[1;33m                 \u001b[0mcom\u001b[0m\u001b[1;33m.\u001b[0m\u001b[0mrequire_length_match\u001b[0m\u001b[1;33m(\u001b[0m\u001b[0mdata\u001b[0m\u001b[1;33m,\u001b[0m \u001b[0mindex\u001b[0m\u001b[1;33m)\u001b[0m\u001b[1;33m\u001b[0m\u001b[1;33m\u001b[0m\u001b[0m\n\u001b[0m\u001b[0;32m    431\u001b[0m \u001b[1;33m\u001b[0m\u001b[0m\n\u001b[0;32m    432\u001b[0m             \u001b[1;31m# create/copy the manager\u001b[0m\u001b[1;33m\u001b[0m\u001b[1;33m\u001b[0m\u001b[1;33m\u001b[0m\u001b[0m\n",
      "\u001b[1;32mc:\\Users\\kakib\\anaconda3\\lib\\site-packages\\pandas\\core\\common.py\u001b[0m in \u001b[0;36mrequire_length_match\u001b[1;34m(data, index)\u001b[0m\n\u001b[0;32m    530\u001b[0m     \u001b[1;32mif\u001b[0m \u001b[0mlen\u001b[0m\u001b[1;33m(\u001b[0m\u001b[0mdata\u001b[0m\u001b[1;33m)\u001b[0m \u001b[1;33m!=\u001b[0m \u001b[0mlen\u001b[0m\u001b[1;33m(\u001b[0m\u001b[0mindex\u001b[0m\u001b[1;33m)\u001b[0m\u001b[1;33m:\u001b[0m\u001b[1;33m\u001b[0m\u001b[1;33m\u001b[0m\u001b[0m\n\u001b[0;32m    531\u001b[0m         raise ValueError(\n\u001b[1;32m--> 532\u001b[1;33m             \u001b[1;34m\"Length of values \"\u001b[0m\u001b[1;33m\u001b[0m\u001b[1;33m\u001b[0m\u001b[0m\n\u001b[0m\u001b[0;32m    533\u001b[0m             \u001b[1;34mf\"({len(data)}) \"\u001b[0m\u001b[1;33m\u001b[0m\u001b[1;33m\u001b[0m\u001b[0m\n\u001b[0;32m    534\u001b[0m             \u001b[1;34m\"does not match length of index \"\u001b[0m\u001b[1;33m\u001b[0m\u001b[1;33m\u001b[0m\u001b[0m\n",
      "\u001b[1;31mValueError\u001b[0m: Length of values (17) does not match length of index (18)"
     ]
    }
   ],
   "source": [
    "# Predict the labels of the test set: preds\n",
    "preds = xg_reg2.predict(X_test)\n",
    "\n",
    "# compute the rmse: rmse\n",
    "rmse = np.sqrt(mean_squared_error(y_test, preds))\n",
    "print(\"RMSE: %f\" % (rmse))\n",
    "\n",
    " \n",
    "#Measuring Goodness of fit in Training data\n",
    "from sklearn import metrics\n",
    "print('Train R2 Value:',metrics.r2_score(y_train, xg_reg2.predict(X_train)))\n",
    " \n",
    "#Measuring accuracy on Testing Data\n",
    "print('Accuracy Test',100- (np.mean(np.abs((y_test - preds) / y_test)) * 100))\n",
    "\n",
    "\n",
    "\n",
    "#Plotting the feature importance for Top 10 most important columns\n",
    "%matplotlib inline\n",
    "feature_importances = pd.Series(xg_reg2.feature_importances_, index=Predictors)\n",
    "feature_importances.nlargest(10).plot(kind='barh')\n",
    "plt.xlabel (\"Feature Importance\")\n",
    "plt.title(\"Top 10 Most Important Features - XGBoost Regressor Model (GBtree)\")\n",
    " \n",
    "#Printing some sample values of prediction\n",
    "TestingDataResults=pd.DataFrame(data=X_test, columns=Predictors)\n",
    "TestingDataResults[Target]=y_test\n",
    "TestingDataResults[('Predicted'+Target)]=preds\n",
    "TestingDataResults.head()\n",
    "\n",
    "import matplotlib.pyplot as plt\n",
    "\n",
    "plt.figure(figsize=(10, 5))\n",
    "plt.scatter(y_test, preds)\n",
    "plt.plot([y_test.min(), y_test.max()], [y_test.min(), y_test.max()], color='red', linewidth=2)\n",
    "plt.xlabel('True Values')\n",
    "plt.ylabel('Predicted Values')\n",
    "plt.title('True vs Predicted Values')\n",
    "plt.show()\n"
   ]
  },
  {
   "cell_type": "code",
   "execution_count": null,
   "metadata": {},
   "outputs": [],
   "source": [
    "# metrics.classification_report(y_test, pred)"
   ]
  },
  {
   "cell_type": "code",
   "execution_count": null,
   "metadata": {},
   "outputs": [],
   "source": [
    "# # https://github.com/parrt/dtreeviz/blob/master/notebooks/dtreeviz_xgboost_visualisations.ipynb\n",
    "\n",
    "# #initialize dtreevizmodel (adaptor)\n",
    "\n",
    "# viz_rmodel = dtreeviz.model(model=xg_reg2, tree_index=1, \n",
    "#                             X_train=df_football[Predictors],\n",
    "#                             y_train=df_football[Target], \n",
    "#                             feature_names=Predictors, \n",
    "#                             target_name=Target)"
   ]
  },
  {
   "cell_type": "code",
   "execution_count": null,
   "metadata": {},
   "outputs": [],
   "source": [
    "# #Tree structure visualizations\n",
    "\n",
    "# # viz_rmodel.view()\n",
    "# viz_rmodel.view(orientation=\"LR\")"
   ]
  },
  {
   "cell_type": "code",
   "execution_count": null,
   "metadata": {},
   "outputs": [],
   "source": [
    "# #Prediction path explanations\n",
    "# x = df_football[Predictors].iloc[10]\n",
    "# x\n",
    "# viz_rmodel.view(x=x)"
   ]
  },
  {
   "cell_type": "code",
   "execution_count": null,
   "metadata": {},
   "outputs": [],
   "source": [
    "# viz_rmodel.view(show_just_path=True, x = x)"
   ]
  },
  {
   "cell_type": "code",
   "execution_count": null,
   "metadata": {},
   "outputs": [],
   "source": [
    "# print(viz_rmodel.explain_prediction_path(x))"
   ]
  },
  {
   "cell_type": "code",
   "execution_count": null,
   "metadata": {},
   "outputs": [],
   "source": [
    "# viz_rmodel.plot_importance(x, figsize=(3.5,2))"
   ]
  },
  {
   "cell_type": "code",
   "execution_count": null,
   "metadata": {},
   "outputs": [],
   "source": [
    "# #leaf ratios\n",
    "# viz_rmodel.leaf_sizes()"
   ]
  },
  {
   "cell_type": "code",
   "execution_count": null,
   "metadata": {},
   "outputs": [],
   "source": [
    "# viz_rmodel.rtree_leaf_distributions()"
   ]
  },
  {
   "cell_type": "code",
   "execution_count": null,
   "metadata": {},
   "outputs": [],
   "source": [
    "# viz_rmodel.node_stats(node_id=4)"
   ]
  },
  {
   "cell_type": "code",
   "execution_count": null,
   "metadata": {},
   "outputs": [],
   "source": []
  },
  {
   "cell_type": "markdown",
   "metadata": {},
   "source": [
    "**XGBoost with linear learner base model (GBlinear)**- Have to use XGBoot non scikit learn functions to build model"
   ]
  },
  {
   "cell_type": "code",
   "execution_count": null,
   "metadata": {},
   "outputs": [],
   "source": [
    "DM_train = xgb.DMatrix(data=X_train, label=y_train, enable_categorical= True)\n",
    "DM_test = xgb.DMatrix(data=X_test, label=y_test, enable_categorical = True)\n",
    "\n",
    "\n",
    "# Create the parameter dictionary: params\n",
    "params = {\"booster\":\"gblinear\", \"objective\":\"reg:squarederror\"}\n",
    "\n",
    "# Define evaluation data\n",
    "eval_data = [(DM_train, 'train'), (DM_test, 'test')]\n",
    "\n",
    "\n",
    "# Train the model: xg_gbl\n",
    "xg_gbl = xgb.train(params=params, dtrain=DM_train, evals =eval_data, num_boost_round=5)\n",
    "\n",
    "\n",
    "# Predict the labels of the test set: preds\n",
    "preds = xg_gbl.predict(DM_test)\n",
    "\n",
    "# Calculate the error RMSE\n",
    "error = xg_gbl.eval(DM_test)\n",
    "print('Evaluation Error:', error)\n",
    "\n",
    "# Compute and print the RMSE\n",
    "rmse = np.sqrt(mean_squared_error(y_test, preds))\n",
    "# compute the rmse: rmse\n",
    "rmse = np.sqrt(mean_squared_error(y_test, preds))\n",
    "print(\"RMSE %f:\" % (rmse))\n",
    "#Measuring Goodness of fit in Training data\n",
    "from sklearn import metrics\n",
    "print('Train R2 Value:',metrics.r2_score(y_train, xg_gbl.predict(DM_train)))\n",
    "#Measuring accuracy on Testing Data\n",
    "print('Accuracy Test',100- (np.mean(np.abs((y_test - preds) / y_test)) * 100))\n",
    "\n",
    "\n",
    "# # Plot the feature importance\n",
    "from matplotlib import pyplot\n",
    "# plt.figure(figsize=(10, 20))\n",
    "plot_importance(xg_gbl, max_num_features = 15)\n",
    "pyplot.show()\n",
    "\n",
    "\n",
    "\n",
    "import matplotlib.pyplot as plt\n",
    "\n",
    "plt.figure(figsize=(10, 5))\n",
    "plt.scatter(y_test, preds)\n",
    "plt.plot([y_test.min(), y_test.max()], [y_test.min(), y_test.max()], color='red', linewidth=2)\n",
    "plt.xlabel('True Values')\n",
    "plt.ylabel('Predicted Values')\n",
    "plt.title('True vs Predicted Values')\n",
    "plt.show()\n",
    "\n"
   ]
  },
  {
   "cell_type": "code",
   "execution_count": null,
   "metadata": {},
   "outputs": [],
   "source": [
    "y_test_trans = y_test.reshape(-1)\n",
    "residuals = y_test_trans - preds\n",
    "residuals\n",
    "# preds.shape\n",
    "# # y_test.shape\n",
    "\n",
    "plt.figure(figsize=(10, 5))\n",
    "plt.hist(residuals, bins= 20)\n",
    "plt.xlabel('Residual')\n",
    "plt.ylabel('Frequency')\n",
    "plt.title('Distribution of Residuals')\n",
    "plt.show()\n",
    "\n"
   ]
  },
  {
   "cell_type": "code",
   "execution_count": null,
   "metadata": {},
   "outputs": [],
   "source": [
    "nil_dmatrix = xgb.DMatrix(data=X, label=y)\n",
    "\n",
    "# Perform cross-valdiation: cv_results\n",
    "cv_results = xgb.cv(dtrain=nil_dmatrix, params=params, nfold=4,\n",
    "                    num_boost_round=100, metrics='rmse', as_pandas=True, seed=42)\n",
    "\n",
    "# Print cv_results\n",
    "print(cv_results)\n",
    "\n",
    "# Extract and print final boosting round metric\n",
    "print((cv_results['test-rmse-mean']).tail(1))\n",
    "\n"
   ]
  },
  {
   "cell_type": "code",
   "execution_count": null,
   "metadata": {},
   "outputs": [],
   "source": [
    "nil_dmatrix = xgb.DMatrix(data=X, label=y)\n",
    "\n",
    "# Perform cross-valdiation: cv_results\n",
    "cv_results = xgb.cv(dtrain=nil_dmatrix, params=params, nfold=4,\n",
    "                    num_boost_round=100, metrics='mae', as_pandas=True, seed=42)\n",
    "\n",
    "# Print cv_results\n",
    "print(cv_results)\n",
    "\n",
    "# Extract and print final boosting round metric\n",
    "print((cv_results['test-mae-mean']).tail(1))\n",
    "\n"
   ]
  },
  {
   "cell_type": "code",
   "execution_count": null,
   "metadata": {},
   "outputs": [],
   "source": [
    "# https://github.com/parrt/dtreeviz/blob/master/notebooks/dtreeviz_xgboost_visualisations.ipynb\n",
    "\n",
    "#initialize dtreevizmodel (adaptor)\n",
    "\n",
    "# viz_rmodel = dtreeviz.model(model=xg_reg2, tree_index=0, \n",
    "#                             X_train=X, \n",
    "#                             y_train=y, \n",
    "#                             feature_names=Predictors, \n",
    "#                             target_name=Target)"
   ]
  },
  {
   "cell_type": "markdown",
   "metadata": {},
   "source": [
    "**Finetune XGBoost Model- scikit learn**<br> 9 hyperparameters to address bias-variance trade-off:\n",
    "<br>Iteration Control: num_boost_round; early_stopping_round\n",
    "<br>Params:\n",
    "<br> Shrinkage: eta\n",
    "<br> Tree-Booster constraints: max_depth; min_child_weight; gamma\n",
    "<br> Random Subsampling: subsample; colsample_bytree\n",
    "<br> L1 & L2 regularizations: alpha; lambda\n",
    "<br> Fixed paramaters: objective function for regression ;eval_metric; tree_method (hist; )\n"
   ]
  },
  {
   "cell_type": "markdown",
   "metadata": {},
   "source": [
    "**Pre-tuning regression to compare initial performance curves of datasets along training iterations**\n",
    "<br> Compare training and test performance to assess bias-variance tradeoff(problem of under/over fitting) at initial state\n",
    "<br> Use for pre/post tuning performance curves comparison to assess regularization impact of tuning. Is tuning effectively performing regularization on model to assess bias-variance tradeoff?"
   ]
  },
  {
   "cell_type": "code",
   "execution_count": null,
   "metadata": {},
   "outputs": [],
   "source": [
    "Target = 'NILVAL_LONG_USD'\n",
    "feature_name = ['GRADE', 'AGE', 'SKILL', 'NUMOFF', 'POS', 'HEIGHT_IN', 'WEIGHT_LBS',\n",
    "       'COLLDIST_MI', 'INSTA_LONG', 'TWIT_LONG', 'TIK_LONG',\n",
    "       'TOT_FOL', 'RECRUIT_YEAR', 'EXP_MONTHS', 'EXP_YEARS',\n",
    "       'ClassificationCode', 'REV_MEN', 'EXP_MEN']\n",
    "\n",
    "\n",
    "\n"
   ]
  },
  {
   "cell_type": "code",
   "execution_count": null,
   "metadata": {},
   "outputs": [],
   "source": []
  },
  {
   "cell_type": "code",
   "execution_count": null,
   "metadata": {},
   "outputs": [],
   "source": [
    "#params dictionary-baseline parameter to tune\n",
    "# Define hyperparameters\n",
    "eval_metrics = []\n",
    "params = {\n",
    "    'max_depth':6,\n",
    "    'min_child_weight': 1,\n",
    "    'eta': 0.3,\n",
    "    'subsample': 1,\n",
    "    'colsample_bytree': 1,\n",
    "    'gamma': 0, \n",
    "    'reg_alpha': 0.1,\n",
    "    'reg_lambda': 1,\n",
    "     'eval_metric': ['rmse', 'mae'],\n",
    "    # Other parameters-fixed\n",
    "    'objective': 'reg:squarederror',\n",
    "    'tree_method': 'hist',\n",
    "    'seed' : 42\n",
    "}\n",
    "num_boost_round = 1000\n",
    "early_stopping_rounds = 20   #10\n",
    "\n",
    "# Define evaluation metrics (metrics)\n",
    "metrics = {'rmse', 'mae'}\n",
    "\n",
    "seed = 42\n",
    "\n",
    "# DM_train = xgb.DMatrix(data=X_train, label=y_train, enable_categorical= True)\n",
    "# DM_test = xgb.DMatrix(data=X_test, label=y_test, enable_categorical = True)\n",
    "\n",
    "\n",
    "def bias_variance_performance(params, X_train, y_train, X_test, y_test):\n",
    "    \n",
    "    DM_train = xgb.DMatrix(data=X_train, label=y_train, enable_categorical= True)\n",
    "    DM_test = xgb.DMatrix(data=X_test, label=y_test, enable_categorical = True) \n",
    "   \n",
    "    evals_result = {}\n",
    "    model = xgb.train(\n",
    "        params,\n",
    "        dtrain=DM_train,\n",
    "        num_boost_round=num_boost_round,\n",
    "        evals=[(DM_train, \"Train\"), (DM_test, \"Test\")],\n",
    "        early_stopping_rounds=early_stopping_rounds,\n",
    "        evals_result=evals_result,\n",
    "    \n",
    "    )\n",
    "    train_error = evals_result[\"Train\"][\"mae\"]\n",
    "    test_error = evals_result[\"Test\"][\"mae\"]\n",
    "    train_rmse = evals_result[\"Train\"][\"rmse\"]\n",
    "    test_rmse = evals_result[\"Test\"][\"rmse\"]\n",
    "    \n",
    "  \n",
    "    best_mae = min(evals_result['Test']['mae'])\n",
    "    best_mae_round = evals_result['Test']['mae'].index(best_mae) + 1  # Add 1 to get the round number\n",
    "    \n",
    "    best_rmse = min(evals_result['Test']['rmse'])\n",
    "    best_rmse_round = evals_result['Test']['rmse'].index(best_rmse) + 1  # Add 1 to get the round number\n",
    "    \n",
    "    print(\"Best MAE before the Tuning: {:.4f} with {} rounds\".format(best_mae, best_mae_round))\n",
    "    print(\"Best RMSE before the Tuning: {:.4f} with {} rounds\".format(best_rmse, best_rmse_round))\n",
    "    \n",
    "    return model, evals_result\n",
    "\n",
    "# num_boost_round = 1000\n",
    "# early_stopping_rounds = 60\n",
    "pretuned_model, pre_evals_result = bias_variance_performance(params, X_train, y_train, X_test, y_test)"
   ]
  },
  {
   "cell_type": "markdown",
   "metadata": {},
   "source": [
    "Gap for MAE for pre-tuned hyperparametes suggests overfitting\n",
    "<br>**Plot performance curve for pre-tune MAE and RMSE**"
   ]
  },
  {
   "cell_type": "code",
   "execution_count": null,
   "metadata": {},
   "outputs": [],
   "source": [
    "#Extract MAE values for both training and test sets\n",
    "train_mae = pre_evals_result['Train']['mae']\n",
    "test_mae = pre_evals_result['Test']['mae']\n",
    "\n",
    "\n",
    "#Extract RMSE values for both training and test sets\n",
    "train_rmse = pre_evals_result['Train']['rmse']\n",
    "test_rmse = pre_evals_result['Test']['rmse']\n",
    "\n",
    "# Create a plot to visualize the MAE performance curve\n",
    "plt.figure(figsize=(10, 6))\n",
    "plt.plot(range(1, len(train_mae) + 1), train_mae, label='Train MAE')\n",
    "plt.plot(range(1, len(test_mae) + 1), test_mae, label='Test MAE')\n",
    "plt.xlabel('Boosting Round')\n",
    "plt.ylabel('Mean Absolute Error (MAE)')\n",
    "plt.title('Pre-Tuning XGBoost - MAE Performance Curve')\n",
    "plt.legend()\n",
    "plt.grid(True)\n",
    "plt.show()\n",
    "\n",
    "plt.figure(figsize=(10, 6))\n",
    "plt.plot(range(1, len(train_rmse) + 1), train_rmse, label='Train RMSE')\n",
    "plt.plot(range(1, len(test_rmse) + 1), test_rmse, label='Test RMSe')\n",
    "plt.xlabel('Boosting Round')\n",
    "plt.ylabel('Root Squared Mean Error (RMSE)')\n",
    "plt.title('Pre-Tuning XGBoost - RMSE Performance Curve')\n",
    "plt.legend()\n",
    "plt.grid(True)"
   ]
  },
  {
   "cell_type": "markdown",
   "metadata": {},
   "source": [
    "As the iterations went on, the initial (pre-tuned) training performance continued improving, while the initial (pre-tuned) test performance stagnated at some point and then started increasing. \n",
    "<b> This suggests a salient variance, or over-fitting, in the initial (pre-tuned) model"
   ]
  },
  {
   "cell_type": "markdown",
   "metadata": {},
   "source": [
    "What is feature importance of model?"
   ]
  },
  {
   "cell_type": "code",
   "execution_count": null,
   "metadata": {},
   "outputs": [],
   "source": [
    "\n",
    "\n",
    "# Obtain the feature importance scores\n",
    "importance_type = \"weight\"  # You can use \"weight,\" \"gain,\" or \"cover\"\n",
    "importances = pretuned_model.get_score(importance_type=importance_type)\n",
    "\n",
    "# Sort the features by importance in descending order\n",
    "sorted_feature_names = sorted(importances, key=importances.get, reverse=True)\n",
    "\n",
    "# Map sorted_feature_names to the corresponding feature names\n",
    "mapped_feature_names = [feature_name[sorted_feature_names.index(name)] for name in sorted_feature_names]\n",
    "\n",
    "\n",
    "\n",
    "mapped_feature_names\n",
    "# # # Create a feature importance plot with actual feature names as y-axis labels\n",
    "with plt.style.context(\"ggplot\"):\n",
    "    fig = plt.figure(figsize=(9, 6))\n",
    "    ax = fig.add_subplot(111)\n",
    "    xgb.plotting.plot_importance(pretuned_model, ax=ax, height=0.6, importance_type=importance_type)\n",
    "    ax.set_yticklabels(mapped_feature_names)\n",
    "    ax.set_title('XGBoost Regression -Pre-tuning Feature Importance')\n",
    "\n",
    "\n",
    "    \n"
   ]
  },
  {
   "cell_type": "markdown",
   "metadata": {},
   "source": [
    "**K-Cross Fold Validation**\n",
    "<br> Use built in xgb.cv() function- performed only on TRAIN set"
   ]
  },
  {
   "cell_type": "code",
   "execution_count": null,
   "metadata": {},
   "outputs": [],
   "source": [
    "\n",
    "def perform_k_fold_cross_validation(params, DM_train, metrics, num_boost_round, early_stopping_rounds, num_folds=5):\n",
    "    \"\"\"\n",
    "    Perform k-fold cross-validation for an XGBoost model.\n",
    "\n",
    "    Parameters:\n",
    "    - params: XGBoost hyperparameters\n",
    "    - DM_train: DMatrix for the training data\n",
    "    - metrics: List of evaluation metrics\n",
    "    - num_boost_round: Number of boosting rounds\n",
    "    - early_stopping_rounds: Early stopping criteria\n",
    "    - num_folds: Number of cross-validation folds (default is 5)\n",
    "\n",
    "    Returns:\n",
    "    - cv_results: Cross-validation results as a pandas DataFrame\n",
    "    \"\"\"\n",
    "    cv_results = xgb.cv(\n",
    "        params=params,\n",
    "        dtrain=DM_train,\n",
    "        num_boost_round=num_boost_round,\n",
    "        seed=42,  # Seed for randomization\n",
    "        nfold=num_folds,\n",
    "        metrics=metrics,\n",
    "        early_stopping_rounds=early_stopping_rounds\n",
    "    )\n",
    "    return cv_results\n",
    "\n",
    "# Call the cross_validation function\n",
    "cv_results = perform_k_fold_cross_validation(params, DM_train, metrics, num_boost_round, early_stopping_rounds)\n"
   ]
  },
  {
   "cell_type": "code",
   "execution_count": null,
   "metadata": {},
   "outputs": [],
   "source": [
    "cv_results\n",
    "best_round = cv_results['test-rmse-mean'].idxmin()\n",
    "best_rmse = cv_results['test-rmse-mean'].min()\n",
    "best_mae = cv_results['test-mae-mean'][best_round]\n",
    "\n",
    "print(\"Best RMSE: {:.4f} at boosting round {}.\".format(best_rmse, best_round))\n",
    "print(\"Best MAE: {:.4f} at boosting round {}.\".format(best_mae, best_round))"
   ]
  },
  {
   "cell_type": "code",
   "execution_count": null,
   "metadata": {},
   "outputs": [],
   "source": [
    "\n",
    "num_boost_rounds = len(cv_results)\n",
    "\n",
    "\n",
    "plt.figure(figsize=(10, 6))\n",
    "plt.plot(range(1, num_boost_rounds + 1), cv_results['train-mae-mean'], label='Train MAEE', )\n",
    "plt.plot(range(1, num_boost_rounds + 1), cv_results['test-mae-mean'], label='Test MAE', )\n",
    "plt.xlabel('Boosting Rounds')\n",
    "plt.ylabel('MAE')\n",
    "plt.title('K Fold Learning Curve - MAE')\n",
    "plt.legend()\n",
    "plt.grid(True)\n",
    "plt.show()\n",
    "\n",
    "plt.figure(figsize=(10, 6))\n",
    "plt.plot(range(1, num_boost_rounds + 1), cv_results['train-rmse-mean'], label='Train RMSE', )\n",
    "plt.plot(range(1, num_boost_rounds + 1), cv_results['test-rmse-mean'], label='Test RMSE', )\n",
    "plt.xlabel('Boosting Rounds')\n",
    "plt.ylabel('RMSE')\n",
    "plt.title('K Fold Learning Curve - RMSE')\n",
    "plt.legend()\n",
    "plt.grid(True)\n",
    "plt.show()"
   ]
  },
  {
   "cell_type": "markdown",
   "metadata": {},
   "source": [
    "**Use GridSearchCV to find best parameters**"
   ]
  },
  {
   "cell_type": "markdown",
   "metadata": {},
   "source": [
    "**GridSearch for all params above takes a long time- try pairwise grid search**"
   ]
  },
  {
   "cell_type": "code",
   "execution_count": null,
   "metadata": {},
   "outputs": [],
   "source": [
    "best_score = float('inf')  # Initialize with a high value\n",
    "best_params = params.copy()  # Initialize with the baseline parameters\n",
    "\n",
    "param_grid = {\n",
    "    'max_depth': [3, 4, 5, 6, 7],\n",
    "    'min_child_weight': [1, 2, 3, 4, 5],\n",
    "    'eta': [0.01, 0.1, 0.2, 0.3, 0.4],\n",
    "    'subsample': [0.8, 0.9, 1.0],\n",
    "    'colsample_bytree': [0.8, 0.9, 1.0],\n",
    "    'gamma': [0, 0.1, 0.2, 0.3],\n",
    "    'reg_alpha': [0, 0.1, 0.2, 0.3],\n",
    "    'reg_lambda': [0.1, 1, 10, 100],\n",
    "    'eval_metric': ['rmse', 'mae'],\n",
    "    # Other parameters-fixed\n",
    "    'objective': ['reg:squarederror'],\n",
    "    'tree_method': ['hist']\n",
    "}\n",
    "\n",
    "# Define sets of hyperparameters to tune as pairs\n",
    "parameter_sets = [\n",
    "    ('max_depth', 'eta'),\n",
    "    ('min_child_weight', 'gamma'),\n",
    "    ('colsample_bytree', 'subsample'),\n",
    "    ('reg_alpha', 'reg_lambda')\n",
    "]\n",
    "\n",
    "for param_set in parameter_sets:\n",
    "    param1, param2 = param_set\n",
    "\n",
    "    for val1 in param_grid[param1]:\n",
    "        for val2 in param_grid[param2]:\n",
    "            # Create a copy of the current parameter settings\n",
    "            params_copy = best_params.copy()\n",
    "\n",
    "            # Set the values for the current pair of hyperparameters\n",
    "            params_copy[param1] = val1\n",
    "            params_copy[param2] = val2\n",
    "\n",
    "            # Perform grid search using the current hyperparameters\n",
    "            model, evals_result = bias_variance_performance(params_copy)\n",
    "            mse = min(evals_result['Test']['mae'])  # Use an appropriate metric\n",
    "\n",
    "            # Check if this combination of hyperparameters is better\n",
    "            if mse < best_score:\n",
    "                best_score = mse\n",
    "                best_params[param1] = val1\n",
    "                best_params[param2] = val2\n",
    "\n",
    "print(\"Best Hyperparameters:\", best_params)\n",
    "print(\"Best Score (MAE):\", best_score)"
   ]
  },
  {
   "cell_type": "code",
   "execution_count": null,
   "metadata": {},
   "outputs": [],
   "source": [
    "\n",
    "print(\"Parameters after the Pair Wise Tuning\")\n",
    "best_params"
   ]
  },
  {
   "cell_type": "code",
   "execution_count": null,
   "metadata": {},
   "outputs": [],
   "source": [
    "#Now run tuned hyperparmeters (best_params) \n",
    "# num_boost_rounds = 1000\n",
    "# early_stopping_rounds = 94\n",
    "pw_model_1, pw_evals_result_1 = bias_variance_performance(best_params)"
   ]
  },
  {
   "cell_type": "code",
   "execution_count": null,
   "metadata": {},
   "outputs": [],
   "source": [
    "#Extract MAE values for both training and test sets\n",
    "train_mae = pw_evals_result_1['Train']['mae']\n",
    "test_mae = pw_evals_result_1['Test']['mae']\n",
    "\n",
    "\n",
    "#Extract RMSE values for both training and test sets\n",
    "train_rmse = pw_evals_result_1['Train']['rmse']\n",
    "test_rmse = pw_evals_result_1['Test']['rmse']\n",
    "\n",
    "# Create a plot to visualize the MAE performance curve\n",
    "plt.figure(figsize=(10, 6))\n",
    "plt.plot(range(1, len(train_mae) + 1), train_mae, label='Train MAE' )\n",
    "plt.plot(range(1, len(test_mae) + 1), test_mae, label='Test MAE' )\n",
    "plt.xlabel('Boosting Round')\n",
    "plt.ylabel('Mean Absolute Error (MAE)')\n",
    "plt.title('Post-Tuning XGBoost - MAE Performance Curve')\n",
    "plt.legend()\n",
    "plt.grid(True)\n",
    "plt.show()\n",
    "\n",
    "plt.figure(figsize=(10, 6))\n",
    "plt.plot(range(1, len(train_rmse) + 1), train_rmse, label='Train RMSE' )\n",
    "plt.plot(range(1, len(test_rmse) + 1), test_rmse, label='Test RMSE')\n",
    "plt.xlabel('Boosting Round')\n",
    "plt.ylabel('Root Squared Mean Error (RMSE)')\n",
    "plt.title('Post-Tuning XGBoost - RMSE Performance Curve')\n",
    "plt.legend()\n",
    "plt.grid(True)"
   ]
  },
  {
   "cell_type": "code",
   "execution_count": null,
   "metadata": {},
   "outputs": [],
   "source": [
    "\n",
    "\n",
    "# Obtain the feature importance scores\n",
    "importance_type = \"weight\"  # You can use \"weight,\" \"gain,\" or \"cover\"\n",
    "importances = pw_model_1.get_score(importance_type=importance_type)\n",
    "\n",
    "# Sort the features by importance in descending order\n",
    "sorted_feature_names = sorted(importances, key=importances.get, reverse=True)\n",
    "\n",
    "# Map sorted_feature_names to the corresponding feature names\n",
    "mapped_feature_names = [feature_name[sorted_feature_names.index(name)] for name in sorted_feature_names]\n",
    "\n",
    "\n",
    "\n",
    "mapped_feature_names\n",
    "# # # Create a feature importance plot with actual feature names as y-axis labels\n",
    "with plt.style.context(\"ggplot\"):\n",
    "    fig = plt.figure(figsize=(9, 6))\n",
    "    ax = fig.add_subplot(111)\n",
    "    xgb.plotting.plot_importance(pw_model_1, ax=ax, height=0.6, importance_type=importance_type)\n",
    "    ax.set_yticklabels(mapped_feature_names)\n",
    "    ax.set_title('XGBoost Regression -Post-tuning Feature Importance')"
   ]
  },
  {
   "cell_type": "markdown",
   "metadata": {},
   "source": [
    "#go back and change when early stopping should happend  60???"
   ]
  },
  {
   "cell_type": "markdown",
   "metadata": {},
   "source": [
    "**Evaluation** During boosting rounds, the model object has learned all the patterns of the training set. Perform testing."
   ]
  },
  {
   "cell_type": "code",
   "execution_count": null,
   "metadata": {},
   "outputs": [],
   "source": [
    "preds1 = pretuned_model.predict(DM_test)\n",
    "preds2 = pw_model_1.predict (DM_test)\n",
    "\n",
    "\n",
    "rmse = mean_squared_error(y_test, preds1, squared=False)\n",
    "\n",
    "rmse2 = mean_squared_error(y_test, preds2, squared=False)\n",
    "\n",
    "print(f\"RMSE of the baseline model: {rmse:.3f}\")\n",
    "print(f\"RMSE of the tuned model: {rmse2:.3f}\")\n",
    "\n",
    "mae = mean_absolute_error(y_test, preds1)\n",
    "mae2 = mean_absolute_error(y_test, preds2)\n",
    "print(f\"MAE of the baseline model: {mae:.3f}\")\n",
    "print(f\"MAE of the tuned model: {mae2:.3f}\")\n",
    "\n",
    "# # Calculate the mean of the target variable in the test data\n",
    "# y_mean = np.mean(y_test)\n",
    "\n",
    "# # Calculate the total sum of squares (TSS)\n",
    "# TSS = np.sum((y_test - y_mean)**2)\n",
    "\n",
    "# # Calculate the residual sum of squares (RSS)\n",
    "# RSS = np.sum((y_test - preds1)**2)\n",
    "# RSS2 = np.sum((y_test - preds2)**2)\n",
    "\n",
    "# # Calculate R-squared (R^2)\n",
    "# r_squared = 1 - (RSS / TSS)\n",
    "# r_squared2 = 1 - (RSS2 / TSS)\n",
    "\n",
    "# print(\"Baseline R-squared (R^2) =\", r_squared)\n",
    "# print(\"Tuned R-squared (R^2) =\", r_squared2)\n",
    "\n",
    "\n"
   ]
  },
  {
   "cell_type": "code",
   "execution_count": null,
   "metadata": {},
   "outputs": [],
   "source": [
    "plt.figure(figsize=(10,10))\n",
    "plt.scatter(y_test, preds1, c='crimson')\n",
    "plt.yscale('log')\n",
    "plt.xscale('log')\n",
    "\n",
    "p1 = max(max(preds1), max(y_test))\n",
    "p2 = min(min(preds1), min(y_test))\n",
    "plt.plot([p1, p2], [p1, p2], 'b-')\n",
    "plt.xlabel('True Values', fontsize=15)\n",
    "plt.ylabel('Predictions', fontsize=15)\n",
    "plt.axis('equal')\n",
    "plt.show()"
   ]
  },
  {
   "cell_type": "code",
   "execution_count": null,
   "metadata": {},
   "outputs": [],
   "source": [
    "plt.figure(figsize=(10, 5))\n",
    "plt.scatter(y_test, preds1)\n",
    "plt.plot([y_test.min(), y_test.max()], [y_test.min(), y_test.max()], color='red', linewidth=2)\n",
    "plt.xlabel('True Values')\n",
    "plt.ylabel('Predicted NIL Values')\n",
    "plt.title('True vs Predicted NIL Values- Baseline XGBRegressor')\n",
    "plt.show()"
   ]
  },
  {
   "cell_type": "code",
   "execution_count": null,
   "metadata": {},
   "outputs": [],
   "source": [
    "# residuals = y_test - preds1\n",
    "\n",
    "# plt.figure(figsize=(10, 5))\n",
    "# plt.hist(residuals, bins=20)\n",
    "# plt.xlabel('Residual')\n",
    "# plt.ylabel('Frequency')\n",
    "# plt.title('Distribution of Residuals')\n",
    "# plt.show()"
   ]
  },
  {
   "cell_type": "code",
   "execution_count": null,
   "metadata": {},
   "outputs": [],
   "source": [
    "plt.figure(figsize=(10,10))\n",
    "plt.scatter(y_test, preds2, c='crimson')\n",
    "plt.yscale('log')\n",
    "plt.xscale('log')\n",
    "\n",
    "p11 = max(max(preds2), max(y_test))\n",
    "p22 = min(min(preds2), min(y_test))\n",
    "plt.plot([p11, p22], [p11, p22], 'b-')\n",
    "plt.xlabel('True Values', fontsize=15)\n",
    "plt.ylabel('Predictions', fontsize=15)\n",
    "plt.axis('equal')\n",
    "plt.show()"
   ]
  },
  {
   "cell_type": "code",
   "execution_count": null,
   "metadata": {},
   "outputs": [],
   "source": [
    "plt.figure(figsize=(10, 5))\n",
    "plt.scatter(y_test, preds2)\n",
    "plt.plot([y_test.min(), y_test.max()], [y_test.min(), y_test.max()], color='red', linewidth=2)\n",
    "plt.xlabel('True NIL Values')\n",
    "plt.ylabel('Predicted NIL Values')\n",
    "plt.title('True vs Predicted NIL Values- Tune XGBRegressor')\n",
    "plt.show()"
   ]
  },
  {
   "cell_type": "code",
   "execution_count": null,
   "metadata": {},
   "outputs": [],
   "source": [
    "# residuals = y_test - preds2\n",
    "\n",
    "# plt.figure(figsize=(10, 5))\n",
    "# plt.hist(residuals, bins=20)\n",
    "# plt.xlabel('Residual')\n",
    "# plt.ylabel('Frequency')\n",
    "# plt.title('Distribution of Residuals')\n",
    "# plt.show()"
   ]
  }
 ],
 "metadata": {
  "kernelspec": {
   "display_name": "base",
   "language": "python",
   "name": "python3"
  },
  "language_info": {
   "codemirror_mode": {
    "name": "ipython",
    "version": 3
   },
   "file_extension": ".py",
   "mimetype": "text/x-python",
   "name": "python",
   "nbconvert_exporter": "python",
   "pygments_lexer": "ipython3",
   "version": "3.7.6"
  }
 },
 "nbformat": 4,
 "nbformat_minor": 2
}
